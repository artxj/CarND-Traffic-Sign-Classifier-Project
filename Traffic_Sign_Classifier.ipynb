{
 "cells": [
  {
   "cell_type": "markdown",
   "metadata": {
    "deletable": true,
    "editable": true
   },
   "source": [
    "# Self-Driving Car Engineer Nanodegree\n",
    "\n",
    "## Deep Learning\n",
    "\n",
    "## Project: Build a Traffic Sign Recognition Classifier\n",
    "\n",
    "In this notebook, a template is provided for you to implement your functionality in stages, which is required to successfully complete this project. If additional code is required that cannot be included in the notebook, be sure that the Python code is successfully imported and included in your submission if necessary. \n",
    "\n",
    "> **Note**: Once you have completed all of the code implementations, you need to finalize your work by exporting the iPython Notebook as an HTML document. Before exporting the notebook to html, all of the code cells need to have been run so that reviewers can see the final implementation and output. You can then export the notebook by using the menu above and navigating to  \\n\",\n",
    "    \"**File -> Download as -> HTML (.html)**. Include the finished document along with this notebook as your submission. \n",
    "\n",
    "In addition to implementing code, there is a writeup to complete. The writeup should be completed in a separate file, which can be either a markdown file or a pdf document. There is a [write up template](https://github.com/udacity/CarND-Traffic-Sign-Classifier-Project/blob/master/writeup_template.md) that can be used to guide the writing process. Completing the code template and writeup template will cover all of the [rubric points](https://review.udacity.com/#!/rubrics/481/view) for this project.\n",
    "\n",
    "The [rubric](https://review.udacity.com/#!/rubrics/481/view) contains \"Stand Out Suggestions\" for enhancing the project beyond the minimum requirements. The stand out suggestions are optional. If you decide to pursue the \"stand out suggestions\", you can include the code in this Ipython notebook and also discuss the results in the writeup file.\n",
    "\n",
    "\n",
    ">**Note:** Code and Markdown cells can be executed using the **Shift + Enter** keyboard shortcut. In addition, Markdown cells can be edited by typically double-clicking the cell to enter edit mode."
   ]
  },
  {
   "cell_type": "markdown",
   "metadata": {
    "deletable": true,
    "editable": true
   },
   "source": [
    "---\n",
    "## Step 0: Load The Data"
   ]
  },
  {
   "cell_type": "code",
   "execution_count": 1,
   "metadata": {
    "collapsed": false,
    "deletable": true,
    "editable": true
   },
   "outputs": [
    {
     "name": "stdout",
     "output_type": "stream",
     "text": [
      "Train size:  34799\n",
      "Valid size:  4410\n",
      "Test size:  12630\n"
     ]
    }
   ],
   "source": [
    "# Load pickled data\n",
    "import pickle\n",
    "\n",
    "# TODO: Fill this in based on where you saved the training and testing data\n",
    "\n",
    "training_file = 'traffic-signs-data/train.p'\n",
    "validation_file = 'traffic-signs-data/valid.p'\n",
    "testing_file = 'traffic-signs-data/test.p'\n",
    "\n",
    "with open(training_file, mode='rb') as f:\n",
    "    train = pickle.load(f)\n",
    "with open(validation_file, mode='rb') as f:\n",
    "    valid = pickle.load(f)\n",
    "with open(testing_file, mode='rb') as f:\n",
    "    test = pickle.load(f)\n",
    "    \n",
    "X_train, y_train = train['features'], train['labels']\n",
    "X_valid, y_valid = valid['features'], valid['labels']\n",
    "X_test, y_test = test['features'], test['labels']\n",
    "\n",
    "assert(len(X_train) == len(y_train))\n",
    "assert(len(X_valid) == len(y_valid))\n",
    "assert(len(X_test) == len(y_test))\n",
    "\n",
    "print('Train size: ', len(y_train))\n",
    "print('Valid size: ', len(y_valid))\n",
    "print('Test size: ', len(y_test))"
   ]
  },
  {
   "cell_type": "markdown",
   "metadata": {
    "deletable": true,
    "editable": true
   },
   "source": [
    "---\n",
    "\n",
    "## Step 1: Dataset Summary & Exploration\n",
    "\n",
    "The pickled data is a dictionary with 4 key/value pairs:\n",
    "\n",
    "- `'features'` is a 4D array containing raw pixel data of the traffic sign images, (num examples, width, height, channels).\n",
    "- `'labels'` is a 1D array containing the label/class id of the traffic sign. The file `signnames.csv` contains id -> name mappings for each id.\n",
    "- `'sizes'` is a list containing tuples, (width, height) representing the original width and height the image.\n",
    "- `'coords'` is a list containing tuples, (x1, y1, x2, y2) representing coordinates of a bounding box around the sign in the image. **THESE COORDINATES ASSUME THE ORIGINAL IMAGE. THE PICKLED DATA CONTAINS RESIZED VERSIONS (32 by 32) OF THESE IMAGES**\n",
    "\n",
    "Complete the basic data summary below. Use python, numpy and/or pandas methods to calculate the data summary rather than hard coding the results. For example, the [pandas shape method](http://pandas.pydata.org/pandas-docs/stable/generated/pandas.DataFrame.shape.html) might be useful for calculating some of the summary results. "
   ]
  },
  {
   "cell_type": "markdown",
   "metadata": {
    "deletable": true,
    "editable": true
   },
   "source": [
    "### Provide a Basic Summary of the Data Set Using Python, Numpy and/or Pandas"
   ]
  },
  {
   "cell_type": "code",
   "execution_count": 2,
   "metadata": {
    "collapsed": false,
    "deletable": true,
    "editable": true
   },
   "outputs": [
    {
     "name": "stdout",
     "output_type": "stream",
     "text": [
      "Number of training examples = 34799\n",
      "Number of testing examples = 12630\n",
      "Image data shape = (32, 32, 3)\n",
      "Number of classes = 43\n"
     ]
    }
   ],
   "source": [
    "### Replace each question mark with the appropriate value. \n",
    "### Use python, pandas or numpy methods rather than hard coding the results\n",
    "import numpy as np\n",
    "\n",
    "# TODO: Number of training examples\n",
    "n_train = len(y_train)\n",
    "\n",
    "# TODO: Number of validation examples\n",
    "n_validation = len(y_valid)\n",
    "\n",
    "# TODO: Number of testing examples.\n",
    "n_test = len(y_test)\n",
    "\n",
    "# TODO: What's the shape of an traffic sign image?\n",
    "image_shape = X_train[0].shape\n",
    "\n",
    "# TODO: How many unique classes/labels there are in the dataset.\n",
    "n_classes = len(np.unique(y_train))\n",
    "\n",
    "print(\"Number of training examples =\", n_train)\n",
    "print(\"Number of testing examples =\", n_test)\n",
    "print(\"Image data shape =\", image_shape)\n",
    "print(\"Number of classes =\", n_classes)\n"
   ]
  },
  {
   "cell_type": "markdown",
   "metadata": {
    "deletable": true,
    "editable": true
   },
   "source": [
    "### Include an exploratory visualization of the dataset"
   ]
  },
  {
   "cell_type": "markdown",
   "metadata": {
    "deletable": true,
    "editable": true
   },
   "source": [
    "Visualize the German Traffic Signs Dataset using the pickled file(s). This is open ended, suggestions include: plotting traffic sign images, plotting the count of each sign, etc. \n",
    "\n",
    "The [Matplotlib](http://matplotlib.org/) [examples](http://matplotlib.org/examples/index.html) and [gallery](http://matplotlib.org/gallery.html) pages are a great resource for doing visualizations in Python.\n",
    "\n",
    "**NOTE:** It's recommended you start with something simple first. If you wish to do more, come back to it after you've completed the rest of the sections. It can be interesting to look at the distribution of classes in the training, validation and test set. Is the distribution the same? Are there more examples of some classes than others?"
   ]
  },
  {
   "cell_type": "code",
   "execution_count": 8,
   "metadata": {
    "collapsed": false,
    "deletable": true,
    "editable": true
   },
   "outputs": [
    {
     "data": {
      "image/png": "[encoded data removed]",
      "text/plain": [
       "<matplotlib.figure.Figure at 0x7fda78708c18>"
      ]
     },
     "metadata": {},
     "output_type": "display_data"
    },
    {
     "name": "stdout",
     "output_type": "stream",
     "text": [
      "Bumpy road\n"
     ]
    }
   ],
   "source": [
    "### Data exploration visualization code goes here.\n",
    "### Feel free to use as many code cells as needed.\n",
    "import random\n",
    "import csv\n",
    "\n",
    "import matplotlib.pyplot as plt\n",
    "# Visualizations will be shown in the notebook.\n",
    "%matplotlib inline\n",
    "\n",
    "index = random.randint(0, n_train)\n",
    "image = X_train[index].squeeze()\n",
    "\n",
    "sign_names = {}\n",
    "with open('signnames.csv') as inp:\n",
    "    reader = csv.reader(inp)\n",
    "    sign_names = dict(reader)\n",
    "\n",
    "plt.figure(figsize=(1,1))\n",
    "plt.imshow(image)\n",
    "plt.show()\n",
    "print(sign_names[str(y_train[index])])\n"
   ]
  },
  {
   "cell_type": "code",
   "execution_count": 4,
   "metadata": {
    "collapsed": false,
    "deletable": true,
    "editable": true
   },
   "outputs": [
    {
     "data": {
      "image/png": "[encoded data removed]",
      "text/plain": [
       "<matplotlib.figure.Figure at 0x7f5400cdbcf8>"
      ]
     },
     "metadata": {},
     "output_type": "display_data"
    }
   ],
   "source": [
    "# Display histogram of train data\n",
    "\n",
    "def show_hist(y_data):\n",
    "    \"\"\"\n",
    "    Displays histogram on the data provided\n",
    "    \"\"\"\n",
    "    plt.hist(y_data, bins=n_classes, rwidth=0.8)\n",
    "    plt.show()\n",
    "\n",
    "show_hist(y_train)\n"
   ]
  },
  {
   "cell_type": "markdown",
   "metadata": {
    "deletable": true,
    "editable": true
   },
   "source": [
    "----\n",
    "\n",
    "## Step 2: Design and Test a Model Architecture\n",
    "\n",
    "Design and implement a deep learning model that learns to recognize traffic signs. Train and test your model on the [German Traffic Sign Dataset](http://benchmark.ini.rub.de/?section=gtsrb&subsection=dataset).\n",
    "\n",
    "The LeNet-5 implementation shown in the [classroom](https://classroom.udacity.com/nanodegrees/nd013/parts/fbf77062-5703-404e-b60c-95b78b2f3f9e/modules/6df7ae49-c61c-4bb2-a23e-6527e69209ec/lessons/601ae704-1035-4287-8b11-e2c2716217ad/concepts/d4aca031-508f-4e0b-b493-e7b706120f81) at the end of the CNN lesson is a solid starting point. You'll have to change the number of classes and possibly the preprocessing, but aside from that it's plug and play! \n",
    "\n",
    "With the LeNet-5 solution from the lecture, you should expect a validation set accuracy of about 0.89. To meet specifications, the validation set accuracy will need to be at least 0.93. It is possible to get an even higher accuracy, but 0.93 is the minimum for a successful project submission. \n",
    "\n",
    "There are various aspects to consider when thinking about this problem:\n",
    "\n",
    "- Neural network architecture (is the network over or underfitting?)\n",
    "- Play around preprocessing techniques (normalization, rgb to grayscale, etc)\n",
    "- Number of examples per label (some have more than others).\n",
    "- Generate fake data.\n",
    "\n",
    "Here is an example of a [published baseline model on this problem](http://yann.lecun.com/exdb/publis/pdf/sermanet-ijcnn-11.pdf). It's not required to be familiar with the approach used in the paper but, it's good practice to try to read papers like these."
   ]
  },
  {
   "cell_type": "markdown",
   "metadata": {
    "deletable": true,
    "editable": true
   },
   "source": [
    "### Pre-process the Data Set (normalization, grayscale, etc.)"
   ]
  },
  {
   "cell_type": "markdown",
   "metadata": {
    "deletable": true,
    "editable": true
   },
   "source": [
    "Minimally, the image data should be normalized so that the data has mean zero and equal variance. For image data, `(pixel - 128)/ 128` is a quick way to approximately normalize the data and can be used in this project. \n",
    "\n",
    "Other pre-processing steps are optional. You can try different techniques to see if it improves performance. \n",
    "\n",
    "Use the code cell (or multiple code cells, if necessary) to implement the first step of your project."
   ]
  },
  {
   "cell_type": "code",
   "execution_count": 5,
   "metadata": {
    "collapsed": false,
    "deletable": true,
    "editable": true
   },
   "outputs": [
    {
     "name": "stdout",
     "output_type": "stream",
     "text": [
      "Initial train data length 34799\n",
      "New train data length 58529\n"
     ]
    },
    {
     "data": {
      "image/png": "[encoded data removed]",
      "text/plain": [
       "<matplotlib.figure.Figure at 0x7f53cf352c18>"
      ]
     },
     "metadata": {},
     "output_type": "display_data"
    }
   ],
   "source": [
    "### Preprocess the data here. It is required to normalize the data. Other preprocessing steps could include \n",
    "### converting to grayscale, etc.\n",
    "### Feel free to use as many code cells as needed.\n",
    "\n",
    "def add_new_data(X_data, y_data):\n",
    "    \"\"\"\n",
    "    Adds new artificial data by flipping specific traffic signs\n",
    "    \"\"\"\n",
    "    \n",
    "    # Signs that can be flipped horizontally:\n",
    "    # 11=right-of-way, 12=priority road, 13=yield, 15=no vehicles, 17=no entry, 18=general caution\n",
    "    # 22=bumpy road, 26=traffic signals, 30=ice or snow, 35=ahead only\n",
    "    fliplr = [ 11, 12, 13, 15, 17, 18, 22, 26, 30, 35 ]\n",
    "    \n",
    "    # 'Mirrored' signs than change its label after switch:\n",
    "    # 19,20=dangerous curves left/right, 36,37=go straight left/right, 38,39=keep left/right\n",
    "    fliplr_change_plus = [ 19, 36, 38 ]\n",
    "    fliplr_change_minus = [ 20, 37, 39 ]\n",
    "    \n",
    "    # Signs that can be mirrored vertically\n",
    "    # 1=30kmh, 5=80kmh, 12=priority road, 15=no vehicles, 17=no entry\n",
    "    flipud = [ 1, 5, 12, 15, 17 ]\n",
    "    \n",
    "    # Signs that can be mirrored vertically and horizontally together\n",
    "    # 12=priority road, 15=no vehicles, 17=no entry, 32=end of all limits\n",
    "    fliplrud = [ 12, 15, 17, 32 ]\n",
    "    \n",
    "    X_append = np.empty([0, X_data.shape[1], X_data.shape[2], X_data.shape[3]], dtype=X_data.dtype)\n",
    "    y_append = np.empty([0], dtype=y_data.dtype)\n",
    "    \n",
    "    for label in range(0, n_classes):\n",
    "        #X_append = np.append(X_append, X[y_data == label], axis=0)\n",
    "        if label in fliplr:\n",
    "            mirror = X_data[y_data == label][:,:,::-1,:]\n",
    "            y_append = np.append(y_append, np.full(len(mirror), label))\n",
    "            X_append = np.append(X_append, mirror, axis=0)\n",
    "        elif label in fliplr_change_plus:\n",
    "            mirror = X_data[y_data == label][:,:,::-1,:]\n",
    "            y_append = np.append(y_append, np.full(len(mirror), label+1))\n",
    "            X_append = np.append(X_append, mirror, axis=0)\n",
    "        elif label in fliplr_change_minus:\n",
    "            mirror = X_data[y_data == label][:,:,::-1,:]\n",
    "            y_append = np.append(y_append, np.full(len(mirror), label-1))\n",
    "            X_append = np.append(X_append, mirror, axis=0)\n",
    "            \n",
    "        if label in flipud:\n",
    "            mirror = X_data[y_data == label][:,::-1,:,:]\n",
    "            y_append = np.append(y_append, np.full(len(mirror), label))\n",
    "            X_append = np.append(X_append, mirror, axis=0)\n",
    "        \n",
    "        if label in fliplrud:\n",
    "            mirror = X_data[y_data == label][:,::-1,::-1,:]\n",
    "            y_append = np.append(y_append, np.full(len(mirror), label))\n",
    "            X_append = np.append(X_append, mirror, axis=0)\n",
    "        \n",
    "    return np.append(X_data, X_append, axis=0), np.append(y_data, y_append)\n",
    "\n",
    "print('Initial train data length {}'.format(n_train))\n",
    "X_train, y_train = add_new_data(X_train, y_train)\n",
    "n_train = len(y_train)\n",
    "\n",
    "assert(len(X_train) == n_train)\n",
    "\n",
    "print('New train data length {}'.format(n_train))\n",
    "show_hist(y_train)\n",
    "\n"
   ]
  },
  {
   "cell_type": "code",
   "execution_count": 3,
   "metadata": {
    "collapsed": true,
    "deletable": true,
    "editable": true
   },
   "outputs": [],
   "source": [
    "def unify_rgb(X_data):\n",
    "    \"\"\"\n",
    "    Converts pixels data range to [-1, 1]\n",
    "    \"\"\"\n",
    "    return (X_data - 127.5) / 127.5\n",
    "            \n",
    "X_train = unify_rgb(X_train)\n",
    "X_valid = unify_rgb(X_valid)\n",
    "X_test = unify_rgb(X_test)"
   ]
  },
  {
   "cell_type": "markdown",
   "metadata": {
    "deletable": true,
    "editable": true
   },
   "source": [
    "### Model Architecture"
   ]
  },
  {
   "cell_type": "code",
   "execution_count": 4,
   "metadata": {
    "collapsed": true,
    "deletable": true,
    "editable": true
   },
   "outputs": [],
   "source": [
    "### Define your architecture here.\n",
    "### Feel free to use as many code cells as needed.\n",
    "\n",
    "import tensorflow as tf\n",
    "from tensorflow.contrib.layers import flatten\n",
    "\n",
    "def conv2d(x, weight, bias, keep_prob, stride=1, padding='VALID'):\n",
    "    \"\"\"\n",
    "    Returns conv2d layer\n",
    "    \"\"\"\n",
    "    x = tf.nn.conv2d(x, weight, strides=[1, stride, stride, 1], padding=padding)\n",
    "    return tf.nn.bias_add(x, bias)\n",
    "\n",
    "def relu(x, name):\n",
    "    \"\"\"\n",
    "    Applies relu to x\n",
    "    \"\"\"\n",
    "    return tf.nn.relu(x, name=name)\n",
    "\n",
    "def dropout(x, keep_prob):\n",
    "    \"\"\"\n",
    "    Applies dropout to x\n",
    "    \"\"\"\n",
    "    return tf.nn.dropout(x, keep_prob)\n",
    "\n",
    "def maxpool2d(x, ksize=2, padding='VALID'):\n",
    "    \"\"\"\n",
    "    Applies maxpool to x\n",
    "    \"\"\"\n",
    "    return tf.nn.max_pool(x, ksize=[1, ksize, ksize, 1], strides=[1, ksize, ksize, 1], padding=padding)\n",
    "\n",
    "def fully_connected(x, weight, bias, keep_prob):\n",
    "    \"\"\"\n",
    "    Returns fully connected layer\n",
    "    \"\"\"\n",
    "    return tf.add(tf.matmul(x, weight), bias)\n",
    "\n",
    "def truncated_var(shape, name, mu=0, sigma=0.1):\n",
    "    \"\"\"\n",
    "    Returns tensorflow variabled with truncated normal distribution\n",
    "    \"\"\"\n",
    "    return tf.Variable(tf.truncated_normal(shape=shape, mean=mu, stddev=sigma), name=name)\n",
    "\n",
    "def zeros_var(shape, name):\n",
    "    \"\"\"\n",
    "    Returns tensorflow variable with zeros initial values\n",
    "    \"\"\"\n",
    "    return tf.Variable(tf.zeros(shape), name=name)\n",
    "\n",
    "def nnet(x, weights, biases, keep_prob_conv, keep_prob_full):\n",
    "    \"\"\"\n",
    "    Builts a neural network of the following structure:\n",
    "    conv2d > conv2d > maxpool > conv2d > conv2d > maxpool > conv2d > fc > output\n",
    "    \"\"\"\n",
    "    x = conv2d(x, weights['conv1'], biases['conv1'], keep_prob=keep_prob_conv, padding='SAME') # 32x32\n",
    "    x = relu(x, name=\"conv1_relu\")\n",
    "    x = dropout(x, keep_prob_conv)\n",
    "    \n",
    "    x = conv2d(x, weights['conv2'], biases['conv2'], keep_prob=keep_prob_conv, padding='VALID') # 28x28\n",
    "    x = relu(x, name=\"conv2_relu\")\n",
    "    x = maxpool2d(x) # 14x14\n",
    "    x = dropout(x, keep_prob_conv)\n",
    "    \n",
    "    x = conv2d(x, weights['conv3'], biases['conv3'], keep_prob=keep_prob_conv, padding='SAME') # 14x14\n",
    "    x = relu(x, name=\"conv3_relu\")\n",
    "    x = dropout(x, keep_prob_conv)\n",
    "    \n",
    "    x = conv2d(x, weights['conv4'], biases['conv4'], keep_prob=keep_prob_conv, padding='VALID') # 10x10\n",
    "    x = relu(x, name=\"conv4_relu\")\n",
    "    x = maxpool2d(x) # 5x5\n",
    "    x = dropout(x, keep_prob_conv)\n",
    "    \n",
    "    x = conv2d(x, weights['conv5'], biases['conv5'], keep_prob=keep_prob_conv, padding='SAME') # 5x5\n",
    "    x = relu(x, name=\"conv5_relu\")\n",
    "    x = dropout(x, keep_prob_conv)\n",
    "    \n",
    "    #x = tf.concat(1, [flatten(stage1), flatten(stage2), flatten(x)])\n",
    "    x = flatten(x)\n",
    "    \n",
    "    x = fully_connected(x, weights['full1'], biases['full1'], keep_prob=keep_prob_full)\n",
    "    x = relu(x, name=\"full1_relu\")\n",
    "    x = dropout(x, keep_prob_full)\n",
    "    \n",
    "    x = fully_connected(x, weights['output'], biases['output'], keep_prob=keep_prob_full)\n",
    "\n",
    "    return x\n",
    "\n",
    "def evaluate(session, X_data, y_data, batch_size, accuracy_operation):\n",
    "    \"\"\"\n",
    "    Evaluates the accuracy of the model on the given data\n",
    "    \"\"\"\n",
    "    samples_num = len(X_data)\n",
    "    total_accuracy = 0\n",
    "    for offset in range(0, samples_num, batch_size):\n",
    "        batch_x, batch_y = X_data[offset:offset+batch_size], y_data[offset:offset+batch_size]\n",
    "        accuracy = session.run(accuracy_operation, feed_dict={x: batch_x, y: batch_y, keep_prob_full: 1., keep_prob_conv: 1.})\n",
    "        total_accuracy += (accuracy * len(batch_x))\n",
    "    return total_accuracy / samples_num\n",
    "\n",
    "def get_weights_and_biases():\n",
    "    mu = 0\n",
    "    sigma = 0.1\n",
    "    weights = {\n",
    "        'conv1': truncated_var(shape=[5, 5, 3, 8], name=\"weight_conv1\", mu=mu, sigma=sigma),\n",
    "        'conv2': truncated_var(shape=(5, 5, 8, 16), name=\"weight_conv2\", mu=mu, sigma=sigma),\n",
    "        'conv3': truncated_var(shape=(5, 5, 16, 32), name=\"weight_conv3\", mu=mu, sigma=sigma),\n",
    "        'conv4': truncated_var(shape=(5, 5, 32, 64), name=\"weight_conv4\", mu=mu, sigma=sigma),\n",
    "        'conv5': truncated_var(shape=(5, 5, 64, 128), name=\"weight_conv5\", mu=mu, sigma=sigma),\n",
    "        'full1': truncated_var(shape=(3200, 1024), name=\"weight_full1\", mu=mu, sigma=sigma),\n",
    "        'output': truncated_var(shape=(1024, 43), name=\"weight_output\", mu=mu, sigma=sigma)\n",
    "    }\n",
    "\n",
    "    biases = {\n",
    "        'conv1': zeros_var(8, name=\"bias_conv1\"),\n",
    "        'conv2': zeros_var(16, name=\"bias_conv2\"),\n",
    "        'conv3': zeros_var(32, name=\"bias_conv3\"),\n",
    "        'conv4': zeros_var(64, name=\"bias_conv4\"),\n",
    "        'conv5': zeros_var(128, name=\"bias_conv5\"),\n",
    "        'full1': zeros_var(1024, name=\"bias_full1\"),\n",
    "        'output': zeros_var(43, name=\"bias_output\")\n",
    "    }\n",
    "    return weights, biases\n"
   ]
  },
  {
   "cell_type": "code",
   "execution_count": 5,
   "metadata": {
    "collapsed": true,
    "deletable": true,
    "editable": true
   },
   "outputs": [],
   "source": [
    "### Initializing tensorflow variables\n",
    "\n",
    "weights, biases = get_weights_and_biases()\n",
    "\n",
    "x = tf.placeholder(tf.float32, (None, image_shape[0], image_shape[1], image_shape[2]), name=\"placeholder_Xdata\")\n",
    "y = tf.placeholder(tf.int32, (None), name=\"placeholder_ydata\")\n",
    "one_hot_y = tf.one_hot(y, n_classes)\n",
    "\n",
    "keep_prob_full = tf.placeholder(tf.float32, name=\"placeholder_prob_full\")\n",
    "keep_prob_conv = tf.placeholder(tf.float32, name=\"placeholder_prob_conv\")\n",
    "\n",
    "# Training\n",
    "\n",
    "l2_beta = 0.0001\n",
    "\n",
    "learning_rate = 0.001\n",
    "logits = nnet(x, weights, biases, keep_prob_conv, keep_prob_full)\n",
    "\n",
    "cross_entropy = tf.nn.softmax_cross_entropy_with_logits(logits, one_hot_y)\n",
    "loss_operation = tf.reduce_mean(cross_entropy + l2_beta * (tf.nn.l2_loss(weights['conv1']) +\\\n",
    "                                                           tf.nn.l2_loss(weights['conv2']) +\\\n",
    "                                                           tf.nn.l2_loss(weights['conv3']) +\\\n",
    "                                                           tf.nn.l2_loss(weights['conv4']) +\\\n",
    "                                                           tf.nn.l2_loss(weights['conv5']) +\\\n",
    "                                                           tf.nn.l2_loss(weights['full1']) +\\\n",
    "                                                           tf.nn.l2_loss(weights['output'])))\n",
    "optimizer = tf.train.AdamOptimizer(learning_rate=learning_rate)\n",
    "train_operation = optimizer.minimize(loss_operation)\n",
    "\n",
    "# Evaluation\n",
    "\n",
    "correct_prediction = tf.equal(tf.argmax(logits, 1), tf.argmax(one_hot_y, 1))\n",
    "accuracy_operation = tf.reduce_mean(tf.cast(correct_prediction, tf.float32))\n",
    "\n",
    "# Training\n",
    "\n",
    "save_path = './model/model.ckpt'\n",
    "saver = tf.train.Saver()"
   ]
  },
  {
   "cell_type": "markdown",
   "metadata": {
    "deletable": true,
    "editable": true
   },
   "source": [
    "### Train, Validate and Test the Model"
   ]
  },
  {
   "cell_type": "markdown",
   "metadata": {
    "deletable": true,
    "editable": true
   },
   "source": [
    "A validation set can be used to assess how well the model is performing. A low accuracy on the training and validation\n",
    "sets imply underfitting. A high accuracy on the training set but low accuracy on the validation set implies overfitting."
   ]
  },
  {
   "cell_type": "code",
   "execution_count": 9,
   "metadata": {
    "collapsed": false,
    "deletable": true,
    "editable": true
   },
   "outputs": [
    {
     "name": "stdout",
     "output_type": "stream",
     "text": [
      "Training...\n",
      "\n",
      "EPOCH 1:\n",
      "Validation accuracy = 0.576\n",
      "Saving with accuracy = 0.576\n",
      "\n",
      "EPOCH 2:\n",
      "Validation accuracy = 0.862\n",
      "Saving with accuracy = 0.862\n",
      "\n",
      "EPOCH 3:\n",
      "Validation accuracy = 0.917\n",
      "Saving with accuracy = 0.917\n",
      "\n",
      "EPOCH 4:\n",
      "Validation accuracy = 0.901\n",
      "\n",
      "EPOCH 5:\n",
      "Validation accuracy = 0.934\n",
      "Saving with accuracy = 0.934\n",
      "\n",
      "EPOCH 6:\n",
      "Validation accuracy = 0.906\n",
      "\n",
      "EPOCH 7:\n",
      "Validation accuracy = 0.948\n",
      "Saving with accuracy = 0.948\n",
      "\n",
      "EPOCH 8:\n",
      "Validation accuracy = 0.957\n",
      "Saving with accuracy = 0.957\n",
      "\n",
      "EPOCH 9:\n",
      "Validation accuracy = 0.965\n",
      "Saving with accuracy = 0.965\n",
      "\n",
      "EPOCH 10:\n",
      "Validation accuracy = 0.955\n",
      "\n",
      "EPOCH 11:\n",
      "Validation accuracy = 0.955\n",
      "\n",
      "EPOCH 12:\n",
      "Validation accuracy = 0.959\n",
      "\n",
      "EPOCH 13:\n",
      "Validation accuracy = 0.942\n",
      "\n",
      "EPOCH 14:\n",
      "Validation accuracy = 0.966\n",
      "Saving with accuracy = 0.966\n",
      "\n",
      "EPOCH 15:\n",
      "Validation accuracy = 0.972\n",
      "Saving with accuracy = 0.972\n",
      "\n",
      "EPOCH 16:\n",
      "Validation accuracy = 0.958\n",
      "\n",
      "EPOCH 17:\n",
      "Validation accuracy = 0.974\n",
      "Saving with accuracy = 0.974\n",
      "\n",
      "EPOCH 18:\n",
      "Validation accuracy = 0.973\n",
      "\n",
      "EPOCH 19:\n",
      "Validation accuracy = 0.975\n",
      "Saving with accuracy = 0.975\n",
      "\n",
      "EPOCH 20:\n",
      "Validation accuracy = 0.968\n",
      "\n",
      "EPOCH 21:\n",
      "Validation accuracy = 0.975\n",
      "\n",
      "EPOCH 22:\n",
      "Validation accuracy = 0.971\n",
      "\n",
      "EPOCH 23:\n",
      "Validation accuracy = 0.972\n",
      "\n",
      "EPOCH 24:\n",
      "Validation accuracy = 0.976\n",
      "Saving with accuracy = 0.976\n",
      "\n",
      "EPOCH 25:\n",
      "Validation accuracy = 0.973\n",
      "\n",
      "EPOCH 26:\n",
      "Validation accuracy = 0.977\n",
      "Saving with accuracy = 0.977\n",
      "\n",
      "EPOCH 27:\n",
      "Validation accuracy = 0.973\n",
      "\n",
      "EPOCH 28:\n",
      "Validation accuracy = 0.974\n",
      "\n",
      "EPOCH 29:\n",
      "Validation accuracy = 0.975\n",
      "\n",
      "EPOCH 30:\n",
      "Validation accuracy = 0.974\n",
      "\n",
      "EPOCH 31:\n",
      "Validation accuracy = 0.974\n",
      "\n",
      "EPOCH 32:\n",
      "Validation accuracy = 0.977\n",
      "\n",
      "EPOCH 33:\n",
      "Validation accuracy = 0.976\n",
      "\n",
      "EPOCH 34:\n",
      "Validation accuracy = 0.975\n",
      "\n",
      "EPOCH 35:\n",
      "Validation accuracy = 0.971\n",
      "\n",
      "EPOCH 36:\n",
      "Validation accuracy = 0.983\n",
      "Saving with accuracy = 0.983\n",
      "\n",
      "EPOCH 37:\n",
      "Validation accuracy = 0.973\n",
      "\n",
      "EPOCH 38:\n",
      "Validation accuracy = 0.976\n",
      "\n",
      "EPOCH 39:\n",
      "Validation accuracy = 0.982\n",
      "\n",
      "EPOCH 40:\n",
      "Validation accuracy = 0.973\n",
      "\n",
      "EPOCH 41:\n",
      "Validation accuracy = 0.978\n",
      "\n",
      "EPOCH 42:\n",
      "Validation accuracy = 0.973\n",
      "\n",
      "EPOCH 43:\n",
      "Validation accuracy = 0.973\n",
      "\n",
      "EPOCH 44:\n",
      "Validation accuracy = 0.984\n",
      "Saving with accuracy = 0.984\n",
      "\n",
      "EPOCH 45:\n",
      "Validation accuracy = 0.982\n",
      "\n",
      "EPOCH 46:\n",
      "Validation accuracy = 0.982\n",
      "\n",
      "EPOCH 47:\n",
      "Validation accuracy = 0.978\n",
      "\n",
      "EPOCH 48:\n",
      "Validation accuracy = 0.977\n",
      "\n",
      "EPOCH 49:\n",
      "Validation accuracy = 0.980\n",
      "\n",
      "EPOCH 50:\n",
      "Validation accuracy = 0.972\n",
      "\n",
      "EPOCH 51:\n",
      "Validation accuracy = 0.981\n",
      "\n",
      "EPOCH 52:\n",
      "Validation accuracy = 0.977\n",
      "\n",
      "EPOCH 53:\n",
      "Validation accuracy = 0.982\n",
      "\n",
      "EPOCH 54:\n",
      "Validation accuracy = 0.983\n",
      "\n",
      "EPOCH 55:\n",
      "Validation accuracy = 0.962\n",
      "\n",
      "EPOCH 56:\n",
      "Validation accuracy = 0.983\n",
      "\n",
      "EPOCH 57:\n",
      "Validation accuracy = 0.972\n",
      "\n",
      "EPOCH 58:\n",
      "Validation accuracy = 0.977\n",
      "\n",
      "EPOCH 59:\n",
      "Validation accuracy = 0.979\n",
      "\n",
      "EPOCH 60:\n",
      "Validation accuracy = 0.985\n",
      "Saving with accuracy = 0.985\n",
      "\n",
      "EPOCH 61:\n",
      "Validation accuracy = 0.974\n",
      "\n",
      "EPOCH 62:\n",
      "Validation accuracy = 0.981\n",
      "\n",
      "EPOCH 63:\n",
      "Validation accuracy = 0.974\n",
      "\n",
      "EPOCH 64:\n",
      "Validation accuracy = 0.980\n",
      "\n",
      "EPOCH 65:\n",
      "Validation accuracy = 0.977\n",
      "\n",
      "EPOCH 66:\n",
      "Validation accuracy = 0.975\n",
      "\n",
      "EPOCH 67:\n",
      "Validation accuracy = 0.983\n",
      "\n",
      "EPOCH 68:\n",
      "Validation accuracy = 0.985\n",
      "Saving with accuracy = 0.985\n",
      "\n",
      "EPOCH 69:\n",
      "Validation accuracy = 0.983\n",
      "\n",
      "EPOCH 70:\n",
      "Validation accuracy = 0.979\n",
      "\n",
      "EPOCH 71:\n",
      "Validation accuracy = 0.982\n",
      "\n",
      "EPOCH 72:\n",
      "Validation accuracy = 0.971\n",
      "\n",
      "EPOCH 73:\n",
      "Validation accuracy = 0.975\n",
      "\n",
      "EPOCH 74:\n",
      "Validation accuracy = 0.977\n",
      "\n",
      "EPOCH 75:\n",
      "Validation accuracy = 0.987\n",
      "Saving with accuracy = 0.987\n",
      "\n",
      "EPOCH 76:\n",
      "Validation accuracy = 0.983\n",
      "\n",
      "EPOCH 77:\n",
      "Validation accuracy = 0.986\n",
      "\n",
      "EPOCH 78:\n",
      "Validation accuracy = 0.977\n",
      "\n",
      "EPOCH 79:\n",
      "Validation accuracy = 0.983\n",
      "\n",
      "EPOCH 80:\n",
      "Validation accuracy = 0.980\n",
      "\n",
      "EPOCH 81:\n",
      "Validation accuracy = 0.983\n",
      "\n",
      "EPOCH 82:\n",
      "Validation accuracy = 0.982\n",
      "\n",
      "EPOCH 83:\n",
      "Validation accuracy = 0.980\n",
      "\n",
      "EPOCH 84:\n",
      "Validation accuracy = 0.979\n",
      "\n",
      "EPOCH 85:\n",
      "Validation accuracy = 0.987\n",
      "Saving with accuracy = 0.987\n",
      "\n",
      "EPOCH 86:\n",
      "Validation accuracy = 0.978\n",
      "\n",
      "EPOCH 87:\n",
      "Validation accuracy = 0.980\n",
      "\n",
      "EPOCH 88:\n",
      "Validation accuracy = 0.986\n",
      "\n",
      "EPOCH 89:\n",
      "Validation accuracy = 0.977\n",
      "\n",
      "EPOCH 90:\n",
      "Validation accuracy = 0.979\n",
      "\n",
      "EPOCH 91:\n",
      "Validation accuracy = 0.978\n",
      "\n",
      "EPOCH 92:\n",
      "Validation accuracy = 0.984\n",
      "\n",
      "EPOCH 93:\n",
      "Validation accuracy = 0.986\n",
      "\n",
      "EPOCH 94:\n",
      "Validation accuracy = 0.988\n",
      "Saving with accuracy = 0.988\n",
      "\n",
      "EPOCH 95:\n",
      "Validation accuracy = 0.988\n",
      "\n",
      "EPOCH 96:\n",
      "Validation accuracy = 0.984\n",
      "\n",
      "EPOCH 97:\n",
      "Validation accuracy = 0.984\n",
      "\n",
      "EPOCH 98:\n",
      "Validation accuracy = 0.976\n",
      "\n",
      "EPOCH 99:\n",
      "Validation accuracy = 0.985\n",
      "\n",
      "EPOCH 100:\n",
      "Validation accuracy = 0.987\n",
      "\n",
      "EPOCH 101:\n",
      "Validation accuracy = 0.980\n",
      "\n",
      "EPOCH 102:\n",
      "Validation accuracy = 0.989\n",
      "Saving with accuracy = 0.989\n",
      "\n",
      "EPOCH 103:\n",
      "Validation accuracy = 0.975\n",
      "\n",
      "EPOCH 104:\n",
      "Validation accuracy = 0.978\n",
      "\n",
      "EPOCH 105:\n",
      "Validation accuracy = 0.985\n",
      "\n",
      "EPOCH 106:\n",
      "Validation accuracy = 0.986\n",
      "\n",
      "EPOCH 107:\n",
      "Validation accuracy = 0.978\n",
      "\n",
      "EPOCH 108:\n",
      "Validation accuracy = 0.982\n",
      "\n",
      "EPOCH 109:\n",
      "Validation accuracy = 0.975\n",
      "\n",
      "EPOCH 110:\n",
      "Validation accuracy = 0.983\n",
      "\n",
      "EPOCH 111:\n",
      "Validation accuracy = 0.982\n",
      "\n",
      "EPOCH 112:\n",
      "Validation accuracy = 0.982\n",
      "\n",
      "EPOCH 113:\n",
      "Validation accuracy = 0.984\n",
      "\n",
      "EPOCH 114:\n",
      "Validation accuracy = 0.971\n",
      "\n",
      "EPOCH 115:\n",
      "Validation accuracy = 0.984\n",
      "\n",
      "EPOCH 116:\n",
      "Validation accuracy = 0.985\n",
      "\n",
      "EPOCH 117:\n",
      "Validation accuracy = 0.983\n",
      "\n",
      "EPOCH 118:\n",
      "Validation accuracy = 0.973\n",
      "\n",
      "EPOCH 119:\n",
      "Validation accuracy = 0.982\n",
      "\n",
      "EPOCH 120:\n",
      "Validation accuracy = 0.985\n",
      "\n",
      "EPOCH 121:\n",
      "Validation accuracy = 0.979\n",
      "\n",
      "EPOCH 122:\n",
      "Validation accuracy = 0.981\n",
      "\n",
      "EPOCH 123:\n",
      "Validation accuracy = 0.984\n",
      "\n",
      "EPOCH 124:\n",
      "Validation accuracy = 0.982\n",
      "\n",
      "EPOCH 125:\n",
      "Validation accuracy = 0.974\n",
      "\n",
      "EPOCH 126:\n",
      "Validation accuracy = 0.975\n",
      "\n",
      "EPOCH 127:\n",
      "Validation accuracy = 0.985\n",
      "\n",
      "EPOCH 128:\n",
      "Validation accuracy = 0.986\n",
      "\n",
      "EPOCH 129:\n",
      "Validation accuracy = 0.983\n",
      "\n",
      "EPOCH 130:\n",
      "Validation accuracy = 0.976\n",
      "\n",
      "EPOCH 131:\n",
      "Validation accuracy = 0.983\n",
      "\n",
      "EPOCH 132:\n",
      "Validation accuracy = 0.979\n",
      "\n",
      "EPOCH 133:\n",
      "Validation accuracy = 0.971\n",
      "\n",
      "EPOCH 134:\n",
      "Validation accuracy = 0.987\n",
      "\n",
      "EPOCH 135:\n",
      "Validation accuracy = 0.985\n",
      "\n",
      "EPOCH 136:\n",
      "Validation accuracy = 0.988\n",
      "\n",
      "EPOCH 137:\n",
      "Validation accuracy = 0.987\n",
      "\n",
      "EPOCH 138:\n",
      "Validation accuracy = 0.986\n",
      "\n",
      "EPOCH 139:\n",
      "Validation accuracy = 0.983\n",
      "\n",
      "EPOCH 140:\n",
      "Validation accuracy = 0.980\n",
      "\n",
      "EPOCH 141:\n",
      "Validation accuracy = 0.984\n",
      "\n",
      "EPOCH 142:\n",
      "Validation accuracy = 0.986\n",
      "\n",
      "EPOCH 143:\n",
      "Validation accuracy = 0.978\n",
      "\n",
      "EPOCH 144:\n",
      "Validation accuracy = 0.972\n",
      "\n",
      "EPOCH 145:\n",
      "Validation accuracy = 0.980\n",
      "\n",
      "EPOCH 146:\n",
      "Validation accuracy = 0.976\n",
      "\n",
      "EPOCH 147:\n",
      "Validation accuracy = 0.989\n",
      "Saving with accuracy = 0.989\n",
      "\n",
      "EPOCH 148:\n",
      "Validation accuracy = 0.982\n",
      "\n",
      "EPOCH 149:\n",
      "Validation accuracy = 0.985\n",
      "\n",
      "EPOCH 150:\n",
      "Validation accuracy = 0.974\n",
      "\n",
      "Validation accuracy = 0.989\n",
      "Test accuracy = 0.975\n"
     ]
    }
   ],
   "source": [
    "### Train your model here.\n",
    "### Calculate and report the accuracy on the training and validation set.\n",
    "### Once a final model architecture is selected, \n",
    "### the accuracy on the test set should be calculated and reported as well.\n",
    "### Feel free to use as many code cells as needed.\n",
    "\n",
    "from sklearn.utils import shuffle\n",
    "\n",
    "# Initializing\n",
    "\n",
    "epochs = 150\n",
    "batch_size = 128\n",
    "\n",
    "best_accuracy = 0.\n",
    "\n",
    "with tf.Session() as session:\n",
    "    session.run(tf.global_variables_initializer())\n",
    "    print('Training...\\n')\n",
    "    for epoch in range(epochs):\n",
    "        X_train, y_train = shuffle(X_train, y_train)\n",
    "        for offset in range(0, n_train, batch_size):\n",
    "            end = offset + batch_size\n",
    "            batch_x, batch_y = X_train[offset:end], y_train[offset:end]\n",
    "            session.run(train_operation, feed_dict={x: batch_x, y: batch_y, keep_prob_full: 0.5, keep_prob_conv: 0.8})\n",
    "        \n",
    "        validation_accuracy = evaluate(session, X_valid, y_valid, batch_size, accuracy_operation)\n",
    "        \n",
    "        print('EPOCH {}:'.format(epoch + 1))\n",
    "        print('Validation accuracy = {:.3f}'.format(validation_accuracy))\n",
    "        \n",
    "        if validation_accuracy > best_accuracy:\n",
    "            best_accuracy = validation_accuracy\n",
    "            print('Saving with accuracy = {:.3f}'.format(best_accuracy))\n",
    "            saver.save(session, save_path)\n",
    "    \n",
    "        print('')\n",
    "        if epoch == 49:\n",
    "            learning_rate *= 0.1\n",
    "        \n",
    "    saver.restore(session, save_path)\n",
    "\n",
    "    validation_accuracy = evaluate(session, X_valid, y_valid, batch_size, accuracy_operation)\n",
    "    print('Validation accuracy = {:.3f}'.format(validation_accuracy))\n",
    "\n",
    "    test_accuracy = evaluate(session, X_test, y_test, batch_size, accuracy_operation)\n",
    "    print('Test accuracy = {:.3f}'.format(test_accuracy))\n"
   ]
  },
  {
   "cell_type": "markdown",
   "metadata": {
    "deletable": true,
    "editable": true
   },
   "source": [
    "---\n",
    "\n",
    "## Step 3: Test a Model on New Images\n",
    "\n",
    "To give yourself more insight into how your model is working, download at least five pictures of German traffic signs from the web and use your model to predict the traffic sign type.\n",
    "\n",
    "You may find `signnames.csv` useful as it contains mappings from the class id (integer) to the actual sign name."
   ]
  },
  {
   "cell_type": "markdown",
   "metadata": {
    "deletable": true,
    "editable": true
   },
   "source": [
    "### Load and Output the Images"
   ]
  },
  {
   "cell_type": "code",
   "execution_count": 9,
   "metadata": {
    "collapsed": false,
    "deletable": true,
    "editable": true
   },
   "outputs": [
    {
     "data": {
      "image/png": "[encoded data removed]",
      "text/plain": [
       "<matplotlib.figure.Figure at 0x7fda786ca198>"
      ]
     },
     "metadata": {},
     "output_type": "display_data"
    },
    {
     "name": "stdout",
     "output_type": "stream",
     "text": [
      "Speed limit (120km/h)\n"
     ]
    },
    {
     "data": {
      "image/png": "[encoded data removed]",
      "text/plain": [
       "<matplotlib.figure.Figure at 0x7fda786130f0>"
      ]
     },
     "metadata": {},
     "output_type": "display_data"
    },
    {
     "name": "stdout",
     "output_type": "stream",
     "text": [
      "Keep right\n"
     ]
    },
    {
     "data": {
      "image/png": "[encoded data removed]",
      "text/plain": [
       "<matplotlib.figure.Figure at 0x7fda95f5ea90>"
      ]
     },
     "metadata": {},
     "output_type": "display_data"
    },
    {
     "name": "stdout",
     "output_type": "stream",
     "text": [
      "Wild animals crossing\n"
     ]
    },
    {
     "data": {
      "image/png": "[encoded data removed]",
      "text/plain": [
       "<matplotlib.figure.Figure at 0x7fda78685a20>"
      ]
     },
     "metadata": {},
     "output_type": "display_data"
    },
    {
     "name": "stdout",
     "output_type": "stream",
     "text": [
      "Priority road\n"
     ]
    },
    {
     "data": {
      "image/png": "[encoded data removed]",
      "text/plain": [
       "<matplotlib.figure.Figure at 0x7fda785be0f0>"
      ]
     },
     "metadata": {},
     "output_type": "display_data"
    },
    {
     "name": "stdout",
     "output_type": "stream",
     "text": [
      "No vehicles\n"
     ]
    },
    {
     "data": {
      "image/png": "[encoded data removed]",
      "text/plain": [
       "<matplotlib.figure.Figure at 0x7fda78560eb8>"
      ]
     },
     "metadata": {},
     "output_type": "display_data"
    },
    {
     "name": "stdout",
     "output_type": "stream",
     "text": [
      "End of speed limit (80km/h)\n"
     ]
    },
    {
     "data": {
      "image/png": "[encoded data removed]",
      "text/plain": [
       "<matplotlib.figure.Figure at 0x7fda784f0c50>"
      ]
     },
     "metadata": {},
     "output_type": "display_data"
    },
    {
     "name": "stdout",
     "output_type": "stream",
     "text": [
      "Speed limit (120km/h)\n"
     ]
    },
    {
     "data": {
      "image/png": "[encoded data removed]",
      "text/plain": [
       "<matplotlib.figure.Figure at 0x7fda784c5d68>"
      ]
     },
     "metadata": {},
     "output_type": "display_data"
    },
    {
     "name": "stdout",
     "output_type": "stream",
     "text": [
      "Dangerous curve to the right\n"
     ]
    },
    {
     "data": {
      "image/png": "[encoded data removed]",
      "text/plain": [
       "<matplotlib.figure.Figure at 0x7fda78417d30>"
      ]
     },
     "metadata": {},
     "output_type": "display_data"
    },
    {
     "name": "stdout",
     "output_type": "stream",
     "text": [
      "Speed limit (80km/h)\n"
     ]
    }
   ],
   "source": [
    "### Load the images and plot them here.\n",
    "### Feel free to use as many code cells as needed.\n",
    "import os\n",
    "\n",
    "webdir = \"web-data/\"\n",
    "\n",
    "dir_images = [ \"01.jpg\", \"02.jpg\", \"03.jpg\", \"04.jpg\", \"05.jpg\", \"06.jpg\", \"07.jpg\", \"08.jpg\", \"09.jpg\" ]\n",
    "\n",
    "web_images = []\n",
    "web_labels = [ 8, 38, 31, 12, 15, 6, 8, 20, 5 ]\n",
    "web_count = len(web_labels)\n",
    "\n",
    "index = 0\n",
    "for image_file in dir_images:\n",
    "    image = plt.imread(webdir + image_file)\n",
    "    web_images.append(image[:])\n",
    "    plt.figure(figsize=(1,1))\n",
    "    plt.imshow(image)\n",
    "    plt.show()\n",
    "    print(sign_names[str(web_labels[index])])\n",
    "    index += 1\n",
    "    \n",
    "web_images = np.array(web_images)\n"
   ]
  },
  {
   "cell_type": "markdown",
   "metadata": {
    "deletable": true,
    "editable": true
   },
   "source": [
    "### Predict the Sign Type for Each Image"
   ]
  },
  {
   "cell_type": "code",
   "execution_count": 10,
   "metadata": {
    "collapsed": false,
    "deletable": true,
    "editable": true
   },
   "outputs": [
    {
     "name": "stdout",
     "output_type": "stream",
     "text": [
      "Prediction for 0 image is: Speed limit (120km/h)\n",
      "Prediction for 1 image is: Keep right\n",
      "Prediction for 2 image is: Wild animals crossing\n",
      "Prediction for 3 image is: Ahead only\n",
      "Prediction for 4 image is: No vehicles\n",
      "Prediction for 5 image is: End of speed limit (80km/h)\n",
      "Prediction for 6 image is: Speed limit (120km/h)\n",
      "Prediction for 7 image is: Stop\n",
      "Prediction for 8 image is: Speed limit (80km/h)\n"
     ]
    }
   ],
   "source": [
    "### Run the predictions here and use the model to output the prediction for each image.\n",
    "### Make sure to pre-process the images with the same pre-processing pipeline used earlier.\n",
    "### Feel free to use as many code cells as needed.\n",
    "\n",
    "web_images = unify_rgb(web_images)\n",
    "\n",
    "sign_prediction = tf.argmax(logits, 1)\n",
    "\n",
    "softmax_prediction = tf.nn.top_k(tf.nn.softmax(logits), k=5)\n",
    "\n",
    "predictions = []\n",
    "with tf.Session() as session:\n",
    "    saver.restore(session, save_path)\n",
    "    predictions = session.run(sign_prediction, feed_dict={x: web_images, y: [0], keep_prob_full: 1., keep_prob_conv: 1.})\n",
    "    for index in range(0, len(predictions)):\n",
    "        print(\"Prediction for {} image is: {}\".format(index, sign_names[str(predictions[index])]))\n",
    "        \n",
    "    top_predictions = session.run(softmax_prediction, feed_dict={x: web_images, y: [0], keep_prob_full: 1., keep_prob_conv: 1.})\n",
    "    \n"
   ]
  },
  {
   "cell_type": "markdown",
   "metadata": {
    "deletable": true,
    "editable": true
   },
   "source": [
    "### Analyze Performance"
   ]
  },
  {
   "cell_type": "code",
   "execution_count": 11,
   "metadata": {
    "collapsed": false,
    "deletable": true,
    "editable": true
   },
   "outputs": [
    {
     "name": "stdout",
     "output_type": "stream",
     "text": [
      "Accuracy is 0.778\n"
     ]
    }
   ],
   "source": [
    "### Calculate the accuracy for these 5 new images. \n",
    "### For example, if the model predicted 1 out of 5 signs correctly, it's 20% accurate on these new images.\n",
    "\n",
    "accuracy = 0.\n",
    "\n",
    "assert(web_count == len(predictions))\n",
    "\n",
    "for index in range(0, web_count):\n",
    "    if web_labels[index] == predictions[index]:\n",
    "        accuracy += 1. / float(web_count)\n",
    "        \n",
    "print(\"Accuracy is {:.3f}\".format(accuracy))\n",
    "    "
   ]
  },
  {
   "cell_type": "markdown",
   "metadata": {
    "deletable": true,
    "editable": true
   },
   "source": [
    "### Output Top 5 Softmax Probabilities For Each Image Found on the Web"
   ]
  },
  {
   "cell_type": "markdown",
   "metadata": {
    "deletable": true,
    "editable": true
   },
   "source": [
    "For each of the new images, print out the model's softmax probabilities to show the **certainty** of the model's predictions (limit the output to the top 5 probabilities for each image). [`tf.nn.top_k`](https://www.tensorflow.org/versions/r0.12/api_docs/python/nn.html#top_k) could prove helpful here. \n",
    "\n",
    "The example below demonstrates how tf.nn.top_k can be used to find the top k predictions for each image.\n",
    "\n",
    "`tf.nn.top_k` will return the values and indices (class ids) of the top k predictions. So if k=3, for each sign, it'll return the 3 largest probabilities (out of a possible 43) and the correspoding class ids.\n",
    "\n",
    "Take this numpy array as an example. The values in the array represent predictions. The array contains softmax probabilities for five candidate images with six possible classes. `tk.nn.top_k` is used to choose the three classes with the highest probability:\n",
    "\n",
    "```\n",
    "# (5, 6) array\n",
    "a = np.array([[ 0.24879643,  0.07032244,  0.12641572,  0.34763842,  0.07893497,\n",
    "         0.12789202],\n",
    "       [ 0.28086119,  0.27569815,  0.08594638,  0.0178669 ,  0.18063401,\n",
    "         0.15899337],\n",
    "       [ 0.26076848,  0.23664738,  0.08020603,  0.07001922,  0.1134371 ,\n",
    "         0.23892179],\n",
    "       [ 0.11943333,  0.29198961,  0.02605103,  0.26234032,  0.1351348 ,\n",
    "         0.16505091],\n",
    "       [ 0.09561176,  0.34396535,  0.0643941 ,  0.16240774,  0.24206137,\n",
    "         0.09155967]])\n",
    "```\n",
    "\n",
    "Running it through `sess.run(tf.nn.top_k(tf.constant(a), k=3))` produces:\n",
    "\n",
    "```\n",
    "TopKV2(values=array([[ 0.34763842,  0.24879643,  0.12789202],\n",
    "       [ 0.28086119,  0.27569815,  0.18063401],\n",
    "       [ 0.26076848,  0.23892179,  0.23664738],\n",
    "       [ 0.29198961,  0.26234032,  0.16505091],\n",
    "       [ 0.34396535,  0.24206137,  0.16240774]]), indices=array([[3, 0, 5],\n",
    "       [0, 1, 4],\n",
    "       [0, 5, 1],\n",
    "       [1, 3, 5],\n",
    "       [1, 4, 3]], dtype=int32))\n",
    "```\n",
    "\n",
    "Looking just at the first row we get `[ 0.34763842,  0.24879643,  0.12789202]`, you can confirm these are the 3 largest probabilities in `a`. You'll also notice `[3, 0, 5]` are the corresponding indices."
   ]
  },
  {
   "cell_type": "code",
   "execution_count": 23,
   "metadata": {
    "collapsed": false,
    "deletable": true,
    "editable": true
   },
   "outputs": [
    {
     "data": {
      "image/png": "[encoded data removed]",
      "text/plain": [
       "<matplotlib.figure.Figure at 0x7fda784fb278>"
      ]
     },
     "metadata": {},
     "output_type": "display_data"
    },
    {
     "data": {
      "image/png": "[encoded data removed]",
      "text/plain": [
       "<matplotlib.figure.Figure at 0x7fda6df7dda0>"
      ]
     },
     "metadata": {},
     "output_type": "display_data"
    },
    {
     "data": {
      "image/png": "[encoded data removed]",
      "text/plain": [
       "<matplotlib.figure.Figure at 0x7fda6dfd44e0>"
      ]
     },
     "metadata": {},
     "output_type": "display_data"
    },
    {
     "data": {
      "image/png": "[encoded data removed]",
      "text/plain": [
       "<matplotlib.figure.Figure at 0x7fda6dedd668>"
      ]
     },
     "metadata": {},
     "output_type": "display_data"
    },
    {
     "data": {
      "image/png": "[encoded data removed]",
      "text/plain": [
       "<matplotlib.figure.Figure at 0x7fda6deb61d0>"
      ]
     },
     "metadata": {},
     "output_type": "display_data"
    },
    {
     "data": {
      "image/png": "[encoded data removed]",
      "text/plain": [
       "<matplotlib.figure.Figure at 0x7fda6de47c50>"
      ]
     },
     "metadata": {},
     "output_type": "display_data"
    },
    {
     "data": {
      "image/png": "[encoded data removed]",
      "text/plain": [
       "<matplotlib.figure.Figure at 0x7fda7401f358>"
      ]
     },
     "metadata": {},
     "output_type": "display_data"
    },
    {
     "data": {
      "image/png": "[encoded data removed]",
      "text/plain": [
       "<matplotlib.figure.Figure at 0x7fda76375828>"
      ]
     },
     "metadata": {},
     "output_type": "display_data"
    },
    {
     "data": {
      "image/png": "[encoded data removed]",
      "text/plain": [
       "<matplotlib.figure.Figure at 0x7fdabd09b630>"
      ]
     },
     "metadata": {},
     "output_type": "display_data"
    }
   ],
   "source": [
    "### Print out the top five softmax probabilities for the predictions on the German traffic sign images found on the web. \n",
    "### Feel free to use as many code cells as needed.\n",
    "\n",
    "pos = np.arange(5)+.5\n",
    "\n",
    "for index in range(0, web_count):\n",
    "    \"\"\"\n",
    "    print('For image {} top 5 predictions are:'.format(index))\n",
    "    for top_index in range(0, top_predictions.values.shape[1]):\n",
    "        print('{} with probability = {:.3f}'.format(sign_names[str(top_predictions.indices[index][top_index])], \\\n",
    "                                       top_predictions.values[index][top_index]))\n",
    "    \"\"\"\n",
    "    \n",
    "    signs = [sign_names[str(x)] for x in top_predictions.indices[index]]\n",
    "    \n",
    "    \n",
    "    plt.figure(index+1)\n",
    "    plt.barh(pos, np.array(top_predictions.values[index]), align='center')\n",
    "    plt.yticks(pos, signs)\n",
    "    plt.xlabel('Probability')\n",
    "    plt.title(sign_names[str(web_labels[index])])\n",
    "    \n",
    "plt.show()\n",
    "    "
   ]
  },
  {
   "cell_type": "markdown",
   "metadata": {
    "deletable": true,
    "editable": true
   },
   "source": [
    "### Project Writeup\n",
    "\n",
    "Once you have completed the code implementation, document your results in a project writeup using this [template](https://github.com/udacity/CarND-Traffic-Sign-Classifier-Project/blob/master/writeup_template.md) as a guide. The writeup can be in a markdown or pdf file. "
   ]
  },
  {
   "cell_type": "markdown",
   "metadata": {
    "deletable": true,
    "editable": true
   },
   "source": [
    "> **Note**: Once you have completed all of the code implementations and successfully answered each question above, you may finalize your work by exporting the iPython Notebook as an HTML document. You can do this by using the menu above and navigating to  \\n\",\n",
    "    \"**File -> Download as -> HTML (.html)**. Include the finished document along with this notebook as your submission."
   ]
  },
  {
   "cell_type": "markdown",
   "metadata": {
    "deletable": true,
    "editable": true
   },
   "source": [
    "---\n",
    "\n",
    "## Step 4 (Optional): Visualize the Neural Network's State with Test Images\n",
    "\n",
    " This Section is not required to complete but acts as an additional excersise for understaning the output of a neural network's weights. While neural networks can be a great learning device they are often referred to as a black box. We can understand what the weights of a neural network look like better by plotting their feature maps. After successfully training your neural network you can see what it's feature maps look like by plotting the output of the network's weight layers in response to a test stimuli image. From these plotted feature maps, it's possible to see what characteristics of an image the network finds interesting. For a sign, maybe the inner network feature maps react with high activation to the sign's boundary outline or to the contrast in the sign's painted symbol.\n",
    "\n",
    " Provided for you below is the function code that allows you to get the visualization output of any tensorflow weight layer you want. The inputs to the function should be a stimuli image, one used during training or a new one you provided, and then the tensorflow variable name that represents the layer's state during the training process, for instance if you wanted to see what the [LeNet lab's](https://classroom.udacity.com/nanodegrees/nd013/parts/fbf77062-5703-404e-b60c-95b78b2f3f9e/modules/6df7ae49-c61c-4bb2-a23e-6527e69209ec/lessons/601ae704-1035-4287-8b11-e2c2716217ad/concepts/d4aca031-508f-4e0b-b493-e7b706120f81) feature maps looked like for it's second convolutional layer you could enter conv2 as the tf_activation variable.\n",
    "\n",
    "For an example of what feature map outputs look like, check out NVIDIA's results in their paper [End-to-End Deep Learning for Self-Driving Cars](https://devblogs.nvidia.com/parallelforall/deep-learning-self-driving-cars/) in the section Visualization of internal CNN State. NVIDIA was able to show that their network's inner weights had high activations to road boundary lines by comparing feature maps from an image with a clear path to one without. Try experimenting with a similar test to show that your trained network's weights are looking for interesting features, whether it's looking at differences in feature maps from images with or without a sign, or even what feature maps look like in a trained network vs a completely untrained one on the same sign image.\n",
    "\n",
    "<figure>\n",
    " <img src=\"visualize_cnn.png\" width=\"380\" alt=\"Combined Image\" />\n",
    " <figcaption>\n",
    " <p></p> \n",
    " <p style=\"text-align: center;\"> Your output should look something like this (above)</p> \n",
    " </figcaption>\n",
    "</figure>\n",
    " <p></p> \n"
   ]
  },
  {
   "cell_type": "code",
   "execution_count": 14,
   "metadata": {
    "collapsed": false,
    "deletable": true,
    "editable": true
   },
   "outputs": [
    {
     "data": {
      "image/png": "[encoded data removed]",
      "text/plain": [
       "<matplotlib.figure.Figure at 0x7f53cf39f630>"
      ]
     },
     "metadata": {},
     "output_type": "display_data"
    },
    {
     "data": {
      "image/png": "[encoded data removed]",
      "text/plain": [
       "<matplotlib.figure.Figure at 0x7f537816c2e8>"
      ]
     },
     "metadata": {},
     "output_type": "display_data"
    },
    {
     "data": {
      "image/png": "[encoded data removed]",
      "text/plain": [
       "<matplotlib.figure.Figure at 0x7f53cf3476d8>"
      ]
     },
     "metadata": {},
     "output_type": "display_data"
    }
   ],
   "source": [
    "### Visualize your network's feature maps here.\n",
    "### Feel free to use as many code cells as needed.\n",
    "\n",
    "# image_input: the test image being fed into the network to produce the feature maps\n",
    "# tf_activation: should be a tf variable name used during your training procedure that represents the calculated state of a specific weight layer\n",
    "# activation_min/max: can be used to view the activation contrast in more detail, by default matplot sets min and max to the actual min and max values of the output\n",
    "# plt_num: used to plot out multiple different weight feature map sets on the same block, just extend the plt number for each new feature map entry\n",
    "\n",
    "def outputFeatureMap(session, image_input, tf_activation, title=\"\", activation_min=-1, activation_max=-1 ,plt_num=1):\n",
    "    # Here make sure to preprocess your image_input in a way your network expects\n",
    "    # with size, normalization, ect if needed\n",
    "    # image_input =\n",
    "    # Note: x should be the same name as your network's tensorflow data placeholder variable\n",
    "    # If you get an error tf_activation is not defined it may be having trouble accessing the variable from inside a function\n",
    "    activation = tf_activation.eval(session=session,feed_dict={x : image_input, keep_prob_conv: 1., keep_prob_full: 1.})\n",
    "    featuremaps = activation.shape[3]\n",
    "    plt.figure(plt_num, figsize=(15,15))\n",
    "    for featuremap in range(featuremaps):\n",
    "        plt.subplot(6,8, featuremap+1) # sets the number of feature maps to show on each row and column\n",
    "        plt.title(title + ' ' + str(featuremap)) # displays the feature map number\n",
    "        if activation_min != -1 & activation_max != -1:\n",
    "            plt.imshow(activation[0,:,:, featuremap], interpolation=\"nearest\", vmin =activation_min, vmax=activation_max, cmap=\"gray\")\n",
    "        elif activation_max != -1:\n",
    "            plt.imshow(activation[0,:,:, featuremap], interpolation=\"nearest\", vmax=activation_max, cmap=\"gray\")\n",
    "        elif activation_min !=-1:\n",
    "            plt.imshow(activation[0,:,:, featuremap], interpolation=\"nearest\", vmin=activation_min, cmap=\"gray\")\n",
    "        else:\n",
    "            plt.imshow(activation[0,:,:, featuremap], interpolation=\"nearest\", cmap=\"gray\")\n",
    "    plt.show()\n",
    "            \n",
    "with tf.Session() as session:\n",
    "    saver.restore(session, save_path)\n",
    "    image = plt.imread('web-data/02.jpg')\n",
    "    outputFeatureMap(session, np.expand_dims(image, axis=0), session.graph.get_tensor_by_name('conv1_relu:0'), title=\"Conv1\")\n",
    "    outputFeatureMap(session, np.expand_dims(image, axis=0), session.graph.get_tensor_by_name('conv2_relu:0'), title=\"Conv2\")\n",
    "    outputFeatureMap(session, np.expand_dims(image, axis=0), session.graph.get_tensor_by_name('conv3_relu:0'), title=\"Conv3\")\n"
   ]
  },
  {
   "cell_type": "code",
   "execution_count": null,
   "metadata": {
    "collapsed": true,
    "deletable": true,
    "editable": true
   },
   "outputs": [],
   "source": []
  }
 ],
 "metadata": {
  "anaconda-cloud": {},
  "kernelspec": {
   "display_name": "Python 3",
   "language": "python",
   "name": "python3"
  },
  "language_info": {
   "codemirror_mode": {
    "name": "ipython",
    "version": 3
   },
   "file_extension": ".py",
   "mimetype": "text/x-python",
   "name": "python",
   "nbconvert_exporter": "python",
   "pygments_lexer": "ipython3",
   "version": "3.5.2"
  },
  "widgets": {
   "state": {},
   "version": "1.1.2"
  }
 },
 "nbformat": 4,
 "nbformat_minor": 1
}
